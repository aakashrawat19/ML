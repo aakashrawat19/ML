{
 "cells": [
  {
   "cell_type": "code",
   "execution_count": 97,
   "metadata": {},
   "outputs": [],
   "source": [
    "import pandas as pd\n",
    "from sklearn import datasets\n",
    "from sklearn import model_selection\n",
    "from sklearn.cross_validation import train_test_split\n",
    "from sklearn.metrics import classification_report \n",
    "from sklearn.metrics import confusion_matrix\n",
    "from sklearn.metrics import accuracy_score\n",
    "from sklearn.tree import DecisionTreeClassifier\n",
    "from sklearn.neighbors import KNeighborsClassifier\n",
    "import matplotlib.pyplot as plt\n",
    "\n"
   ]
  },
  {
   "cell_type": "code",
   "execution_count": 98,
   "metadata": {},
   "outputs": [
    {
     "name": "stdout",
     "output_type": "stream",
     "text": [
      "Index(['sl', 'sw', 'pl', 'pw', 'tar'], dtype='object')\n"
     ]
    }
   ],
   "source": [
    "iris=pd.read_csv('/home/luffy/Documents/iris.csv',sep=',' ,names=['sl','sw','pl','pw','tar'])\n",
    "\n",
    "\n",
    "print(iris.columns)"
   ]
  },
  {
   "cell_type": "code",
   "execution_count": 99,
   "metadata": {},
   "outputs": [
    {
     "name": "stdout",
     "output_type": "stream",
     "text": [
      "(150, 5)\n"
     ]
    }
   ],
   "source": [
    "print(iris.shape)\n"
   ]
  },
  {
   "cell_type": "code",
   "execution_count": 100,
   "metadata": {},
   "outputs": [
    {
     "name": "stdout",
     "output_type": "stream",
     "text": [
      "750\n",
      "               sl          sw          pl          pw\n",
      "count  150.000000  150.000000  150.000000  150.000000\n",
      "mean     5.843333    3.054000    3.758667    1.198667\n",
      "std      0.828066    0.433594    1.764420    0.763161\n",
      "min      4.300000    2.000000    1.000000    0.100000\n",
      "25%      5.100000    2.800000    1.600000    0.300000\n",
      "50%      5.800000    3.000000    4.350000    1.300000\n",
      "75%      6.400000    3.300000    5.100000    1.800000\n",
      "max      7.900000    4.400000    6.900000    2.500000\n"
     ]
    }
   ],
   "source": [
    "print(iris.size)\n",
    "print(iris.describe())"
   ]
  },
  {
   "cell_type": "code",
   "execution_count": 101,
   "metadata": {},
   "outputs": [],
   "source": [
    "x=iris[['sl','sw','pl','pw']]\n",
    "y=iris.tar"
   ]
  },
  {
   "cell_type": "code",
   "execution_count": 102,
   "metadata": {},
   "outputs": [
    {
     "name": "stdout",
     "output_type": "stream",
     "text": [
      "      sl   sw   pl   pw\n",
      "0    5.1  3.5  1.4  0.2\n",
      "1    4.9  3.0  1.4  0.2\n",
      "2    4.7  3.2  1.3  0.2\n",
      "3    4.6  3.1  1.5  0.2\n",
      "4    5.0  3.6  1.4  0.2\n",
      "5    5.4  3.9  1.7  0.4\n",
      "6    4.6  3.4  1.4  0.3\n",
      "7    5.0  3.4  1.5  0.2\n",
      "8    4.4  2.9  1.4  0.2\n",
      "9    4.9  3.1  1.5  0.1\n",
      "10   5.4  3.7  1.5  0.2\n",
      "11   4.8  3.4  1.6  0.2\n",
      "12   4.8  3.0  1.4  0.1\n",
      "13   4.3  3.0  1.1  0.1\n",
      "14   5.8  4.0  1.2  0.2\n",
      "15   5.7  4.4  1.5  0.4\n",
      "16   5.4  3.9  1.3  0.4\n",
      "17   5.1  3.5  1.4  0.3\n",
      "18   5.7  3.8  1.7  0.3\n",
      "19   5.1  3.8  1.5  0.3\n",
      "20   5.4  3.4  1.7  0.2\n",
      "21   5.1  3.7  1.5  0.4\n",
      "22   4.6  3.6  1.0  0.2\n",
      "23   5.1  3.3  1.7  0.5\n",
      "24   4.8  3.4  1.9  0.2\n",
      "25   5.0  3.0  1.6  0.2\n",
      "26   5.0  3.4  1.6  0.4\n",
      "27   5.2  3.5  1.5  0.2\n",
      "28   5.2  3.4  1.4  0.2\n",
      "29   4.7  3.2  1.6  0.2\n",
      "..   ...  ...  ...  ...\n",
      "120  6.9  3.2  5.7  2.3\n",
      "121  5.6  2.8  4.9  2.0\n",
      "122  7.7  2.8  6.7  2.0\n",
      "123  6.3  2.7  4.9  1.8\n",
      "124  6.7  3.3  5.7  2.1\n",
      "125  7.2  3.2  6.0  1.8\n",
      "126  6.2  2.8  4.8  1.8\n",
      "127  6.1  3.0  4.9  1.8\n",
      "128  6.4  2.8  5.6  2.1\n",
      "129  7.2  3.0  5.8  1.6\n",
      "130  7.4  2.8  6.1  1.9\n",
      "131  7.9  3.8  6.4  2.0\n",
      "132  6.4  2.8  5.6  2.2\n",
      "133  6.3  2.8  5.1  1.5\n",
      "134  6.1  2.6  5.6  1.4\n",
      "135  7.7  3.0  6.1  2.3\n",
      "136  6.3  3.4  5.6  2.4\n",
      "137  6.4  3.1  5.5  1.8\n",
      "138  6.0  3.0  4.8  1.8\n",
      "139  6.9  3.1  5.4  2.1\n",
      "140  6.7  3.1  5.6  2.4\n",
      "141  6.9  3.1  5.1  2.3\n",
      "142  5.8  2.7  5.1  1.9\n",
      "143  6.8  3.2  5.9  2.3\n",
      "144  6.7  3.3  5.7  2.5\n",
      "145  6.7  3.0  5.2  2.3\n",
      "146  6.3  2.5  5.0  1.9\n",
      "147  6.5  3.0  5.2  2.0\n",
      "148  6.2  3.4  5.4  2.3\n",
      "149  5.9  3.0  5.1  1.8\n",
      "\n",
      "[150 rows x 4 columns]\n"
     ]
    }
   ],
   "source": [
    "print(x)"
   ]
  },
  {
   "cell_type": "code",
   "execution_count": 103,
   "metadata": {},
   "outputs": [
    {
     "name": "stdout",
     "output_type": "stream",
     "text": [
      "0         Iris-setosa\n",
      "1         Iris-setosa\n",
      "2         Iris-setosa\n",
      "3         Iris-setosa\n",
      "4         Iris-setosa\n",
      "5         Iris-setosa\n",
      "6         Iris-setosa\n",
      "7         Iris-setosa\n",
      "8         Iris-setosa\n",
      "9         Iris-setosa\n",
      "10        Iris-setosa\n",
      "11        Iris-setosa\n",
      "12        Iris-setosa\n",
      "13        Iris-setosa\n",
      "14        Iris-setosa\n",
      "15        Iris-setosa\n",
      "16        Iris-setosa\n",
      "17        Iris-setosa\n",
      "18        Iris-setosa\n",
      "19        Iris-setosa\n",
      "20        Iris-setosa\n",
      "21        Iris-setosa\n",
      "22        Iris-setosa\n",
      "23        Iris-setosa\n",
      "24        Iris-setosa\n",
      "25        Iris-setosa\n",
      "26        Iris-setosa\n",
      "27        Iris-setosa\n",
      "28        Iris-setosa\n",
      "29        Iris-setosa\n",
      "            ...      \n",
      "120    Iris-virginica\n",
      "121    Iris-virginica\n",
      "122    Iris-virginica\n",
      "123    Iris-virginica\n",
      "124    Iris-virginica\n",
      "125    Iris-virginica\n",
      "126    Iris-virginica\n",
      "127    Iris-virginica\n",
      "128    Iris-virginica\n",
      "129    Iris-virginica\n",
      "130    Iris-virginica\n",
      "131    Iris-virginica\n",
      "132    Iris-virginica\n",
      "133    Iris-virginica\n",
      "134    Iris-virginica\n",
      "135    Iris-virginica\n",
      "136    Iris-virginica\n",
      "137    Iris-virginica\n",
      "138    Iris-virginica\n",
      "139    Iris-virginica\n",
      "140    Iris-virginica\n",
      "141    Iris-virginica\n",
      "142    Iris-virginica\n",
      "143    Iris-virginica\n",
      "144    Iris-virginica\n",
      "145    Iris-virginica\n",
      "146    Iris-virginica\n",
      "147    Iris-virginica\n",
      "148    Iris-virginica\n",
      "149    Iris-virginica\n",
      "Name: tar, Length: 150, dtype: object\n"
     ]
    }
   ],
   "source": [
    "print(y)"
   ]
  },
  {
   "cell_type": "code",
   "execution_count": 112,
   "metadata": {},
   "outputs": [
    {
     "name": "stdout",
     "output_type": "stream",
     "text": [
      "128    Iris-virginica\n",
      "11        Iris-setosa\n",
      "118    Iris-virginica\n",
      "15        Iris-setosa\n",
      "123    Iris-virginica\n",
      "Name: tar, dtype: object ['Iris-virginica' 'Iris-setosa' 'Iris-virginica' 'Iris-setosa'\n",
      " 'Iris-virginica' 'Iris-virginica' 'Iris-setosa' 'Iris-setosa'\n",
      " 'Iris-virginica' 'Iris-setosa' 'Iris-setosa' 'Iris-virginica'\n",
      " 'Iris-setosa' 'Iris-setosa' 'Iris-virginica' 'Iris-versicolor'\n",
      " 'Iris-versicolor' 'Iris-versicolor' 'Iris-virginica' 'Iris-virginica'\n",
      " 'Iris-virginica' 'Iris-setosa' 'Iris-virginica' 'Iris-setosa'\n",
      " 'Iris-versicolor' 'Iris-virginica' 'Iris-versicolor' 'Iris-setosa'\n",
      " 'Iris-versicolor' 'Iris-virginica' 'Iris-versicolor' 'Iris-versicolor'\n",
      " 'Iris-versicolor' 'Iris-setosa' 'Iris-setosa' 'Iris-versicolor'\n",
      " 'Iris-setosa' 'Iris-versicolor' 'Iris-virginica' 'Iris-virginica'\n",
      " 'Iris-setosa' 'Iris-versicolor' 'Iris-virginica' 'Iris-virginica'\n",
      " 'Iris-setosa']\n",
      "Accuracy score = 0.9777777777777777\n",
      "Confusion matrix \n",
      " [[16  0  0]\n",
      " [ 0 11  0]\n",
      " [ 0  1 17]]\n",
      "Classification report\n",
      "                  precision    recall  f1-score   support\n",
      "\n",
      "    Iris-setosa       1.00      1.00      1.00        16\n",
      "Iris-versicolor       0.92      1.00      0.96        11\n",
      " Iris-virginica       1.00      0.94      0.97        18\n",
      "\n",
      "    avg / total       0.98      0.98      0.98        45\n",
      "\n"
     ]
    }
   ],
   "source": [
    "X_train, X_test, Y_train, Y_test = train_test_split( x, y, test_size = 0.3, random_state = 100)\n",
    "knn = KNeighborsClassifier()\n",
    "knn.fit(X_train, Y_train)\n",
    "predictions = knn.predict(X_test)\n",
    "#result=pd.concat(Y_test,predictions)\n",
    "print(Y_test.head(),predictions)\n",
    "print(\"Accuracy score =\",accuracy_score(Y_test, predictions))\n",
    "print(\"Confusion matrix \\n\",confusion_matrix(Y_test, predictions))\n",
    "print(\"Classification report\\n\",classification_report(Y_test, predictions))"
   ]
  },
  {
   "cell_type": "code",
   "execution_count": null,
   "metadata": {},
   "outputs": [],
   "source": []
  }
 ],
 "metadata": {
  "kernelspec": {
   "display_name": "Python 3",
   "language": "python",
   "name": "python3"
  },
  "language_info": {
   "codemirror_mode": {
    "name": "ipython",
    "version": 3
   },
   "file_extension": ".py",
   "mimetype": "text/x-python",
   "name": "python",
   "nbconvert_exporter": "python",
   "pygments_lexer": "ipython3",
   "version": "3.6.5"
  }
 },
 "nbformat": 4,
 "nbformat_minor": 2
}
