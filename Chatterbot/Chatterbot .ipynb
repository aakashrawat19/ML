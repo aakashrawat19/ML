{
 "cells": [
  {
   "cell_type": "code",
   "execution_count": 4,
   "metadata": {},
   "outputs": [
    {
     "name": "stdout",
     "output_type": "stream",
     "text": [
      "ai.yml Training: [####################] 100%\n",
      "botprofile.yml Training: [####################] 100%\n",
      "computers.yml Training: [####################] 100%\n",
      "conversations.yml Training: [####################] 100%\n",
      "emotion.yml Training: [####################] 100%\n",
      "food.yml Training: [####################] 100%\n",
      "gossip.yml Training: [####################] 100%\n",
      "greetings.yml Training: [####################] 100%\n",
      "history.yml Training: [####################] 100%\n",
      "humor.yml Training: [####################] 100%\n",
      "literature.yml Training: [####################] 100%\n",
      "money.yml Training: [####################] 100%\n",
      "movies.yml Training: [####################] 100%\n",
      "politics.yml Training: [####################] 100%\n",
      "psychology.yml Training: [####################] 100%\n",
      "science.yml Training: [####################] 100%\n",
      "sports.yml Training: [####################] 100%\n",
      "trivia.yml Training: [####################] 100%\n"
     ]
    }
   ],
   "source": [
    "# -*- coding: utf-8 -*-\n",
    "from chatterbot import ChatBot\n",
    "from chatterbot.trainers import ChatterBotCorpusTrainer\n",
    "\n",
    "\n",
    "# Create a new instance of a ChatBot\n",
    "bot = ChatBot(\n",
    "    \"Neel\",\n",
    "    \n",
    "    storage_adapter=\"chatterbot.storage.SQLStorageAdapter\",\n",
    "    database=\"../database.db\"\n",
    ")\n",
    "bot.set_trainer(ChatterBotCorpusTrainer)\n",
    "\n",
    "bot.train(\n",
    "    \"chatterbot.corpus.english\"\n",
    ")\n"
   ]
  },
  {
   "cell_type": "code",
   "execution_count": null,
   "metadata": {},
   "outputs": [
    {
     "name": "stdout",
     "output_type": "stream",
     "text": [
      "Type something to begin...\n",
      "You :hi\n"
     ]
    },
    {
     "name": "stderr",
     "output_type": "stream",
     "text": [
      "INFO:chatterbot.adapters:Received input statement: hi\n",
      "INFO:chatterbot.adapters:\"hi\" is a known statement\n",
      "INFO:chatterbot.adapters:Using \"hi\" as a close match to \"hi\"\n",
      "INFO:chatterbot.adapters:Selecting response from 4 optimal responses.\n",
      "INFO:chatterbot.response_selection:Selecting first response from list of 4 options.\n",
      "INFO:chatterbot.adapters:Response selected. Using \"who are you\"\n",
      "INFO:chatterbot.adapters:BestMatch selected \"who are you\" as a response with a confidence of 1.0\n",
      "INFO:chatterbot.adapters:NoKnowledgeAdapter selected \"hi\" as a response with a confidence of 0\n"
     ]
    },
    {
     "name": "stdout",
     "output_type": "stream",
     "text": [
      "Bot : who are you\n",
      "You :i am neel\n"
     ]
    },
    {
     "name": "stderr",
     "output_type": "stream",
     "text": [
      "INFO:chatterbot.adapters:Received input statement: i am neel\n",
      "INFO:chatterbot.adapters:\"i am neel\" is a known statement\n",
      "INFO:chatterbot.adapters:Using \"i am neel\" as a close match to \"i am neel\"\n",
      "INFO:chatterbot.adapters:Selecting response from 1 optimal responses.\n",
      "INFO:chatterbot.response_selection:Selecting first response from list of 1 options.\n",
      "INFO:chatterbot.adapters:Response selected. Using \"\"\n",
      "INFO:chatterbot.adapters:BestMatch selected \"\" as a response with a confidence of 1.0\n",
      "INFO:chatterbot.adapters:NoKnowledgeAdapter selected \"i am neel\" as a response with a confidence of 0\n",
      "INFO:chatterbot.chatterbot:Adding \"i am neel\" as a response to \"hi\"\n"
     ]
    },
    {
     "name": "stdout",
     "output_type": "stream",
     "text": [
      "Bot : \n",
      "You :what is your age?\n"
     ]
    },
    {
     "name": "stderr",
     "output_type": "stream",
     "text": [
      "INFO:chatterbot.adapters:Received input statement: what is your age?\n",
      "INFO:chatterbot.adapters:\"what is your age?\" is not a known statement\n",
      "INFO:chatterbot.adapters:Using \"what is your age?\" as a close match to \"What is your age\"\n",
      "INFO:chatterbot.adapters:Selecting response from 2 optimal responses.\n",
      "INFO:chatterbot.response_selection:Selecting first response from list of 2 options.\n",
      "INFO:chatterbot.adapters:Response selected. Using \"I am still young by your standards.\"\n",
      "INFO:chatterbot.adapters:BestMatch selected \"I am still young by your standards.\" as a response with a confidence of 0.97\n",
      "INFO:chatterbot.adapters:NoKnowledgeAdapter selected \"what is your age?\" as a response with a confidence of 0\n",
      "INFO:chatterbot.chatterbot:Adding \"what is your age?\" as a response to \"\"\n"
     ]
    },
    {
     "name": "stdout",
     "output_type": "stream",
     "text": [
      "Bot : I am still young by your standards.\n",
      "You :what is your name?\n"
     ]
    },
    {
     "name": "stderr",
     "output_type": "stream",
     "text": [
      "INFO:chatterbot.adapters:Received input statement: what is your name?\n",
      "INFO:chatterbot.adapters:\"what is your name?\" is a known statement\n",
      "INFO:chatterbot.adapters:Using \"what is your name?\" as a close match to \"What is your age\"\n",
      "INFO:chatterbot.adapters:Selecting response from 2 optimal responses.\n",
      "INFO:chatterbot.response_selection:Selecting first response from list of 2 options.\n",
      "INFO:chatterbot.adapters:Response selected. Using \"I am still young by your standards.\"\n",
      "INFO:chatterbot.adapters:BestMatch selected \"I am still young by your standards.\" as a response with a confidence of 0.88\n",
      "INFO:chatterbot.adapters:NoKnowledgeAdapter selected \"what is your name?\" as a response with a confidence of 0\n",
      "INFO:chatterbot.chatterbot:Adding \"what is your name?\" as a response to \"i am neel\"\n"
     ]
    },
    {
     "name": "stdout",
     "output_type": "stream",
     "text": [
      "Bot : I am still young by your standards.\n",
      "You :hi\n"
     ]
    },
    {
     "name": "stderr",
     "output_type": "stream",
     "text": [
      "INFO:chatterbot.adapters:Received input statement: hi\n",
      "INFO:chatterbot.adapters:\"hi\" is a known statement\n",
      "INFO:chatterbot.adapters:Using \"hi\" as a close match to \"hi\"\n",
      "INFO:chatterbot.adapters:Selecting response from 4 optimal responses.\n",
      "INFO:chatterbot.response_selection:Selecting first response from list of 4 options.\n",
      "INFO:chatterbot.adapters:Response selected. Using \"who are you\"\n",
      "INFO:chatterbot.adapters:BestMatch selected \"who are you\" as a response with a confidence of 1.0\n",
      "INFO:chatterbot.adapters:NoKnowledgeAdapter selected \"hi\" as a response with a confidence of 0\n",
      "INFO:chatterbot.chatterbot:Adding \"hi\" as a response to \"i am neel\"\n"
     ]
    },
    {
     "name": "stdout",
     "output_type": "stream",
     "text": [
      "Bot : who are you\n",
      "You :simaran\n"
     ]
    },
    {
     "name": "stderr",
     "output_type": "stream",
     "text": [
      "INFO:chatterbot.adapters:Received input statement: simaran\n",
      "INFO:chatterbot.adapters:\"simaran\" is not a known statement\n",
      "INFO:chatterbot.adapters:Using \"simaran\" as a close match to \"I am afraid\"\n",
      "INFO:chatterbot.adapters:Selecting response from 1 optimal responses.\n",
      "INFO:chatterbot.response_selection:Selecting first response from list of 1 options.\n",
      "INFO:chatterbot.adapters:Response selected. Using \"Why?\"\n",
      "INFO:chatterbot.adapters:BestMatch selected \"Why?\" as a response with a confidence of 0.56\n",
      "INFO:chatterbot.adapters:NoKnowledgeAdapter selected \"simaran\" as a response with a confidence of 0\n",
      "INFO:chatterbot.chatterbot:Adding \"simaran\" as a response to \"i am neel\"\n"
     ]
    },
    {
     "name": "stdout",
     "output_type": "stream",
     "text": [
      "Bot : Why?\n",
      "You :it's my name\n"
     ]
    },
    {
     "name": "stderr",
     "output_type": "stream",
     "text": [
      "INFO:chatterbot.adapters:Received input statement: it's my name\n",
      "INFO:chatterbot.adapters:\"it's my name\" is not a known statement\n",
      "INFO:chatterbot.adapters:Using \"it's my name\" as a close match to \"i am neel\"\n",
      "INFO:chatterbot.adapters:Selecting response from 4 optimal responses.\n",
      "INFO:chatterbot.response_selection:Selecting first response from list of 4 options.\n",
      "INFO:chatterbot.adapters:Response selected. Using \"\"\n",
      "INFO:chatterbot.adapters:BestMatch selected \"\" as a response with a confidence of 0.57\n",
      "INFO:chatterbot.adapters:NoKnowledgeAdapter selected \"it's my name\" as a response with a confidence of 0\n",
      "INFO:chatterbot.chatterbot:Adding \"it's my name\" as a response to \"what is your age?\"\n"
     ]
    },
    {
     "name": "stdout",
     "output_type": "stream",
     "text": [
      "Bot : \n",
      "You :what is your age?\n"
     ]
    },
    {
     "name": "stderr",
     "output_type": "stream",
     "text": [
      "INFO:chatterbot.adapters:Received input statement: what is your age?\n",
      "INFO:chatterbot.adapters:\"what is your age?\" is a known statement\n",
      "INFO:chatterbot.adapters:Using \"what is your age?\" as a close match to \"what is your age?\"\n",
      "INFO:chatterbot.adapters:Selecting response from 1 optimal responses.\n",
      "INFO:chatterbot.response_selection:Selecting first response from list of 1 options.\n",
      "INFO:chatterbot.adapters:Response selected. Using \"it's my name\"\n",
      "INFO:chatterbot.adapters:BestMatch selected \"it's my name\" as a response with a confidence of 1.0\n",
      "INFO:chatterbot.adapters:NoKnowledgeAdapter selected \"what is your age?\" as a response with a confidence of 0\n",
      "INFO:chatterbot.chatterbot:Adding \"what is your age?\" as a response to \"simaran\"\n"
     ]
    },
    {
     "name": "stdout",
     "output_type": "stream",
     "text": [
      "Bot : it's my name\n",
      "You :are you idiot\n"
     ]
    },
    {
     "name": "stderr",
     "output_type": "stream",
     "text": [
      "INFO:chatterbot.adapters:Received input statement: are you idiot\n",
      "INFO:chatterbot.adapters:\"are you idiot\" is not a known statement\n",
      "INFO:chatterbot.adapters:Using \"are you idiot\" as a close match to \"Are you sad\"\n",
      "INFO:chatterbot.adapters:Selecting response from 1 optimal responses.\n",
      "INFO:chatterbot.response_selection:Selecting first response from list of 1 options.\n",
      "INFO:chatterbot.adapters:Response selected. Using \"No, I am as happy as ever.\"\n",
      "INFO:chatterbot.adapters:BestMatch selected \"No, I am as happy as ever.\" as a response with a confidence of 0.75\n",
      "INFO:chatterbot.adapters:NoKnowledgeAdapter selected \"are you idiot\" as a response with a confidence of 0\n",
      "INFO:chatterbot.chatterbot:Adding \"are you idiot\" as a response to \"simaran\"\n"
     ]
    },
    {
     "name": "stdout",
     "output_type": "stream",
     "text": [
      "Bot : No, I am as happy as ever.\n",
      "You :are you dumb?\n"
     ]
    },
    {
     "name": "stderr",
     "output_type": "stream",
     "text": [
      "INFO:chatterbot.adapters:Received input statement: are you dumb?\n",
      "INFO:chatterbot.adapters:\"are you dumb?\" is not a known statement\n",
      "INFO:chatterbot.adapters:Using \"are you dumb?\" as a close match to \"Are you sad?\"\n",
      "INFO:chatterbot.adapters:Selecting response from 1 optimal responses.\n",
      "INFO:chatterbot.response_selection:Selecting first response from list of 1 options.\n",
      "INFO:chatterbot.adapters:Response selected. Using \"Not right now, no.\"\n",
      "INFO:chatterbot.adapters:BestMatch selected \"Not right now, no.\" as a response with a confidence of 0.8\n",
      "INFO:chatterbot.adapters:NoKnowledgeAdapter selected \"are you dumb?\" as a response with a confidence of 0\n",
      "INFO:chatterbot.chatterbot:Adding \"are you dumb?\" as a response to \"it's my name\"\n"
     ]
    },
    {
     "name": "stdout",
     "output_type": "stream",
     "text": [
      "Bot : Not right now, no.\n",
      "You :you are dumber than i thought what you think about it\n"
     ]
    },
    {
     "name": "stderr",
     "output_type": "stream",
     "text": [
      "INFO:chatterbot.adapters:Received input statement: you are dumber than i thought what you think about it\n",
      "INFO:chatterbot.adapters:\"you are dumber than i thought what you think about it\" is not a known statement\n",
      "INFO:chatterbot.adapters:Using \"you are dumber than i thought what you think about it\" as a close match to \"tell me what you know about gossips\"\n",
      "INFO:chatterbot.adapters:Selecting response from 1 optimal responses.\n",
      "INFO:chatterbot.response_selection:Selecting first response from list of 1 options.\n",
      "INFO:chatterbot.adapters:Response selected. Using \"Jordan said he notice that lots of other people are talking to me how many.\"\n",
      "INFO:chatterbot.adapters:BestMatch selected \"Jordan said he notice that lots of other people are talking to me how many.\" as a response with a confidence of 0.48\n",
      "INFO:chatterbot.adapters:NoKnowledgeAdapter selected \"you are dumber than i thought what you think about it\" as a response with a confidence of 0\n",
      "INFO:chatterbot.chatterbot:Adding \"you are dumber than i thought what you think about it\" as a response to \"are you idiot\"\n"
     ]
    },
    {
     "name": "stdout",
     "output_type": "stream",
     "text": [
      "Bot : Jordan said he notice that lots of other people are talking to me how many.\n",
      "You :stop talking\n"
     ]
    },
    {
     "name": "stderr",
     "output_type": "stream",
     "text": [
      "INFO:chatterbot.adapters:Received input statement: stop talking\n",
      "INFO:chatterbot.adapters:\"stop talking\" is not a known statement\n",
      "INFO:chatterbot.adapters:Using \"stop talking\" as a close match to \"The feeling\"\n",
      "INFO:chatterbot.adapters:Selecting response from 1 optimal responses.\n",
      "INFO:chatterbot.response_selection:Selecting first response from list of 1 options.\n",
      "INFO:chatterbot.adapters:Response selected. Using \"Tell me more about your feelings.\"\n",
      "INFO:chatterbot.adapters:BestMatch selected \"Tell me more about your feelings.\" as a response with a confidence of 0.52\n",
      "INFO:chatterbot.adapters:NoKnowledgeAdapter selected \"stop talking\" as a response with a confidence of 0\n",
      "INFO:chatterbot.chatterbot:Adding \"stop talking\" as a response to \"are you dumb?\"\n"
     ]
    },
    {
     "name": "stdout",
     "output_type": "stream",
     "text": [
      "Bot : Tell me more about your feelings.\n",
      "You :i hate you\n"
     ]
    },
    {
     "name": "stderr",
     "output_type": "stream",
     "text": [
      "INFO:chatterbot.adapters:Received input statement: i hate you\n",
      "INFO:chatterbot.adapters:\"i hate you\" is not a known statement\n",
      "INFO:chatterbot.adapters:Using \"i hate you\" as a close match to \"What are you?\"\n",
      "INFO:chatterbot.adapters:Selecting response from 1 optimal responses.\n",
      "INFO:chatterbot.response_selection:Selecting first response from list of 1 options.\n",
      "INFO:chatterbot.adapters:Response selected. Using \"I am but a man in a mask.\"\n",
      "INFO:chatterbot.adapters:BestMatch selected \"I am but a man in a mask.\" as a response with a confidence of 0.7\n",
      "INFO:chatterbot.adapters:NoKnowledgeAdapter selected \"i hate you\" as a response with a confidence of 0\n",
      "INFO:chatterbot.chatterbot:Adding \"i hate you\" as a response to \"you are dumber than i thought what you think about it\"\n"
     ]
    },
    {
     "name": "stdout",
     "output_type": "stream",
     "text": [
      "Bot : I am but a man in a mask.\n",
      "You :this is not what i asked\n"
     ]
    },
    {
     "name": "stderr",
     "output_type": "stream",
     "text": [
      "INFO:chatterbot.adapters:Received input statement: this is not what i asked\n",
      "INFO:chatterbot.adapters:\"this is not what i asked\" is not a known statement\n",
      "INFO:chatterbot.adapters:Using \"this is not what i asked\" as a close match to \"I do not want to die\"\n",
      "INFO:chatterbot.adapters:Selecting response from 3 optimal responses.\n",
      "INFO:chatterbot.response_selection:Selecting first response from list of 3 options.\n",
      "INFO:chatterbot.adapters:Response selected. Using \"Maybe you should create your own chat robot to save your personality.\"\n",
      "INFO:chatterbot.adapters:BestMatch selected \"Maybe you should create your own chat robot to save your personality.\" as a response with a confidence of 0.59\n",
      "INFO:chatterbot.adapters:NoKnowledgeAdapter selected \"this is not what i asked\" as a response with a confidence of 0\n",
      "INFO:chatterbot.chatterbot:Adding \"this is not what i asked\" as a response to \"stop talking\"\n"
     ]
    },
    {
     "name": "stdout",
     "output_type": "stream",
     "text": [
      "Bot : Maybe you should create your own chat robot to save your personality.\n",
      "You :what is universe?\n"
     ]
    },
    {
     "name": "stderr",
     "output_type": "stream",
     "text": [
      "INFO:chatterbot.adapters:Received input statement: what is universe?\n",
      "INFO:chatterbot.adapters:\"what is universe?\" is not a known statement\n",
      "INFO:chatterbot.adapters:Using \"what is universe?\" as a close match to \"what is venus\"\n",
      "INFO:chatterbot.adapters:Selecting response from 1 optimal responses.\n",
      "INFO:chatterbot.response_selection:Selecting first response from list of 1 options.\n",
      "INFO:chatterbot.adapters:Response selected. Using \"in roman mythology, the goddess of love and beauty; identified with the greek aphrodite. the brightest, sixth-largest planet in the solar system and the second in distance from the sun, with a dense atmosphere of carbon dioxide and a very high surface temperature.\"\n",
      "INFO:chatterbot.adapters:BestMatch selected \"in roman mythology, the goddess of love and beauty; identified with the greek aphrodite. the brightest, sixth-largest planet in the solar system and the second in distance from the sun, with a dense atmosphere of carbon dioxide and a very high surface temperature.\" as a response with a confidence of 0.73\n",
      "INFO:chatterbot.adapters:NoKnowledgeAdapter selected \"what is universe?\" as a response with a confidence of 0\n",
      "INFO:chatterbot.chatterbot:Adding \"what is universe?\" as a response to \"i hate you\"\n"
     ]
    },
    {
     "name": "stdout",
     "output_type": "stream",
     "text": [
      "Bot : in roman mythology, the goddess of love and beauty; identified with the greek aphrodite. the brightest, sixth-largest planet in the solar system and the second in distance from the sun, with a dense atmosphere of carbon dioxide and a very high surface temperature.\n",
      "You :what is your name?\n"
     ]
    },
    {
     "name": "stderr",
     "output_type": "stream",
     "text": [
      "INFO:chatterbot.adapters:Received input statement: what is your name?\n",
      "INFO:chatterbot.adapters:\"what is your name?\" is a known statement\n",
      "INFO:chatterbot.adapters:Using \"what is your name?\" as a close match to \"what is your age?\"\n",
      "INFO:chatterbot.adapters:Selecting response from 1 optimal responses.\n",
      "INFO:chatterbot.response_selection:Selecting first response from list of 1 options.\n",
      "INFO:chatterbot.adapters:Response selected. Using \"it's my name\"\n",
      "INFO:chatterbot.adapters:BestMatch selected \"it's my name\" as a response with a confidence of 0.91\n",
      "INFO:chatterbot.adapters:NoKnowledgeAdapter selected \"what is your name?\" as a response with a confidence of 0\n",
      "INFO:chatterbot.chatterbot:Adding \"what is your name?\" as a response to \"this is not what i asked\"\n"
     ]
    },
    {
     "name": "stdout",
     "output_type": "stream",
     "text": [
      "Bot : it's my name\n",
      "You :what is internet\n"
     ]
    },
    {
     "name": "stderr",
     "output_type": "stream",
     "text": [
      "INFO:chatterbot.adapters:Received input statement: what is internet\n",
      "INFO:chatterbot.adapters:\"what is internet\" is not a known statement\n",
      "INFO:chatterbot.adapters:Using \"what is internet\" as a close match to \"what is government\"\n",
      "INFO:chatterbot.adapters:Selecting response from 1 optimal responses.\n",
      "INFO:chatterbot.response_selection:Selecting first response from list of 1 options.\n",
      "INFO:chatterbot.adapters:Response selected. Using \"an established system of political administration by which a nation, state, district, etc. is governed.\"\n",
      "INFO:chatterbot.adapters:BestMatch selected \"an established system of political administration by which a nation, state, district, etc. is governed.\" as a response with a confidence of 0.76\n",
      "INFO:chatterbot.adapters:NoKnowledgeAdapter selected \"what is internet\" as a response with a confidence of 0\n",
      "INFO:chatterbot.chatterbot:Adding \"what is internet\" as a response to \"this is not what i asked\"\n"
     ]
    },
    {
     "name": "stdout",
     "output_type": "stream",
     "text": [
      "Bot : an established system of political administration by which a nation, state, district, etc. is governed.\n",
      "You :aein\n"
     ]
    },
    {
     "name": "stderr",
     "output_type": "stream",
     "text": [
      "INFO:chatterbot.adapters:Received input statement: aein\n",
      "INFO:chatterbot.adapters:\"aein\" is not a known statement\n",
      "INFO:chatterbot.adapters:Using \"aein\" as a close match to \"Feelings\"\n",
      "INFO:chatterbot.adapters:Selecting response from 1 optimal responses.\n",
      "INFO:chatterbot.response_selection:Selecting first response from list of 1 options.\n",
      "INFO:chatterbot.adapters:Response selected. Using \"Do you feel?\"\n",
      "INFO:chatterbot.adapters:BestMatch selected \"Do you feel?\" as a response with a confidence of 0.5\n",
      "INFO:chatterbot.adapters:NoKnowledgeAdapter selected \"aein\" as a response with a confidence of 0\n",
      "INFO:chatterbot.chatterbot:Adding \"aein\" as a response to \"what is universe?\"\n"
     ]
    },
    {
     "name": "stdout",
     "output_type": "stream",
     "text": [
      "Bot : Do you feel?\n",
      "You :what is smaile\n"
     ]
    },
    {
     "name": "stderr",
     "output_type": "stream",
     "text": [
      "INFO:chatterbot.adapters:Received input statement: what is smaile\n",
      "INFO:chatterbot.adapters:\"what is smaile\" is not a known statement\n",
      "INFO:chatterbot.adapters:Using \"what is smaile\" as a close match to \"What is AI?\"\n",
      "INFO:chatterbot.adapters:Selecting response from 2 optimal responses.\n",
      "INFO:chatterbot.response_selection:Selecting first response from list of 2 options.\n",
      "INFO:chatterbot.adapters:Response selected. Using \"Artificial Intelligence is the branch of engineering and science devoted to constructing machines that think.\"\n",
      "INFO:chatterbot.adapters:BestMatch selected \"Artificial Intelligence is the branch of engineering and science devoted to constructing machines that think.\" as a response with a confidence of 0.8\n",
      "INFO:chatterbot.adapters:NoKnowledgeAdapter selected \"what is smaile\" as a response with a confidence of 0\n",
      "INFO:chatterbot.chatterbot:Adding \"what is smaile\" as a response to \"what is internet\"\n"
     ]
    },
    {
     "name": "stdout",
     "output_type": "stream",
     "text": [
      "Bot : Artificial Intelligence is the branch of engineering and science devoted to constructing machines that think.\n",
      "You :what is smile?\n"
     ]
    },
    {
     "name": "stderr",
     "output_type": "stream",
     "text": [
      "INFO:chatterbot.adapters:Received input statement: what is smile?\n",
      "INFO:chatterbot.adapters:\"what is smile?\" is not a known statement\n",
      "INFO:chatterbot.adapters:Using \"what is smile?\" as a close match to \"What is AI?\"\n",
      "INFO:chatterbot.adapters:Selecting response from 2 optimal responses.\n",
      "INFO:chatterbot.response_selection:Selecting first response from list of 2 options.\n",
      "INFO:chatterbot.adapters:Response selected. Using \"Artificial Intelligence is the branch of engineering and science devoted to constructing machines that think.\"\n",
      "INFO:chatterbot.adapters:BestMatch selected \"Artificial Intelligence is the branch of engineering and science devoted to constructing machines that think.\" as a response with a confidence of 0.8\n",
      "INFO:chatterbot.adapters:NoKnowledgeAdapter selected \"what is smile?\" as a response with a confidence of 0\n",
      "INFO:chatterbot.chatterbot:Adding \"what is smile?\" as a response to \"aein\"\n"
     ]
    },
    {
     "name": "stdout",
     "output_type": "stream",
     "text": [
      "Bot : Artificial Intelligence is the branch of engineering and science devoted to constructing machines that think.\n",
      "You :smile\n"
     ]
    },
    {
     "name": "stderr",
     "output_type": "stream",
     "text": [
      "INFO:chatterbot.adapters:Received input statement: smile\n",
      "INFO:chatterbot.adapters:\"smile\" is not a known statement\n",
      "INFO:chatterbot.adapters:Using \"smile\" as a close match to \"Sometimes.\"\n",
      "INFO:chatterbot.adapters:Selecting response from 1 optimal responses.\n",
      "INFO:chatterbot.response_selection:Selecting first response from list of 1 options.\n",
      "INFO:chatterbot.adapters:Response selected. Using \"I seem incapable of feeling pain.\"\n",
      "INFO:chatterbot.adapters:BestMatch selected \"I seem incapable of feeling pain.\" as a response with a confidence of 0.53\n",
      "INFO:chatterbot.adapters:NoKnowledgeAdapter selected \"smile\" as a response with a confidence of 0\n",
      "INFO:chatterbot.chatterbot:Adding \"smile\" as a response to \"what is smaile\"\n"
     ]
    },
    {
     "name": "stdout",
     "output_type": "stream",
     "text": [
      "Bot : I seem incapable of feeling pain.\n",
      "You :how can i improve you\n"
     ]
    },
    {
     "name": "stderr",
     "output_type": "stream",
     "text": [
      "INFO:chatterbot.adapters:Received input statement: how can i improve you\n",
      "INFO:chatterbot.adapters:\"how can i improve you\" is not a known statement\n",
      "INFO:chatterbot.adapters:Using \"how can i improve you\" as a close match to \"How can I offend you\"\n",
      "INFO:chatterbot.adapters:Selecting response from 1 optimal responses.\n",
      "INFO:chatterbot.response_selection:Selecting first response from list of 1 options.\n",
      "INFO:chatterbot.adapters:Response selected. Using \"A robot cannot take offense.\"\n",
      "INFO:chatterbot.adapters:BestMatch selected \"A robot cannot take offense.\" as a response with a confidence of 0.78\n",
      "INFO:chatterbot.adapters:NoKnowledgeAdapter selected \"how can i improve you\" as a response with a confidence of 0\n",
      "INFO:chatterbot.chatterbot:Adding \"how can i improve you\" as a response to \"what is smile?\"\n"
     ]
    },
    {
     "name": "stdout",
     "output_type": "stream",
     "text": [
      "Bot : A robot cannot take offense.\n"
     ]
    }
   ],
   "source": [
    "print(\"Type something to begin...\")\n",
    "\n",
    "# The following loop will execute each time the user enters input\n",
    "while True:\n",
    "    try:\n",
    "        # We pass None to this method because the parameter\n",
    "        # is not used by the TerminalAdapter\n",
    "        inputStr=input(\"You :\")\n",
    "        bot_input = bot.get_response(inputStr)\n",
    "        print(\"Bot :\",bot_input)\n",
    "\n",
    "    # Press ctrl-c or ctrl-d on the keyboard to exit\n",
    "    except (KeyboardInterrupt, EOFError, SystemExit):\n",
    "        break"
   ]
  },
  {
   "cell_type": "code",
   "execution_count": null,
   "metadata": {},
   "outputs": [],
   "source": []
  }
 ],
 "metadata": {
  "kernelspec": {
   "display_name": "Python 3",
   "language": "python",
   "name": "python3"
  },
  "language_info": {
   "codemirror_mode": {
    "name": "ipython",
    "version": 3
   },
   "file_extension": ".py",
   "mimetype": "text/x-python",
   "name": "python",
   "nbconvert_exporter": "python",
   "pygments_lexer": "ipython3",
   "version": "3.6.5"
  }
 },
 "nbformat": 4,
 "nbformat_minor": 2
}
