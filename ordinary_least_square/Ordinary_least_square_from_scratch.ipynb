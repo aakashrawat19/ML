{
 "cells": [
  {
   "cell_type": "code",
   "execution_count": 1,
   "metadata": {},
   "outputs": [],
   "source": [
    "###################################  Ordinary least square method to solve simple linear regression #######################\n",
    "\n",
    "import pandas as pd #### for manipulation ,here for readinf csv file\n",
    "import numpy as np ### for simple algebra"
   ]
  },
  {
   "cell_type": "code",
   "execution_count": 2,
   "metadata": {},
   "outputs": [
    {
     "name": "stdout",
     "output_type": "stream",
     "text": [
      "   Gender  Age Range  Head Size(cm^3)  Brain Weight(grams)\n",
      "0       1          1             4512                 1530\n",
      "1       1          1             3738                 1297\n",
      "2       1          1             4261                 1335\n",
      "3       1          1             3777                 1282\n",
      "4       1          1             4177                 1590\n"
     ]
    }
   ],
   "source": [
    "df=pd.read_csv('headbrain.csv') ####### reading dataset \n",
    "print(df.head())                ###### printing first 5 rows of the dataset"
   ]
  },
  {
   "cell_type": "code",
   "execution_count": 3,
   "metadata": {},
   "outputs": [],
   "source": [
    "x = df['Head Size(cm^3)']       ###### Transfering Head Sizes in X  (input variable)\n",
    "y = df['Brain Weight(grams)']    ##### Transfering Brain weights in (target value)"
   ]
  },
  {
   "cell_type": "code",
   "execution_count": 4,
   "metadata": {},
   "outputs": [
    {
     "name": "stdout",
     "output_type": "stream",
     "text": [
      "0      4512\n",
      "1      3738\n",
      "2      4261\n",
      "3      3777\n",
      "4      4177\n",
      "5      3585\n",
      "6      3785\n",
      "7      3559\n",
      "8      3613\n",
      "9      3982\n",
      "10     3443\n",
      "11     3993\n",
      "12     3640\n",
      "13     4208\n",
      "14     3832\n",
      "15     3876\n",
      "16     3497\n",
      "17     3466\n",
      "18     3095\n",
      "19     4424\n",
      "20     3878\n",
      "21     4046\n",
      "22     3804\n",
      "23     3710\n",
      "24     4747\n",
      "25     4423\n",
      "26     4036\n",
      "27     4022\n",
      "28     3454\n",
      "29     4175\n",
      "       ... \n",
      "207    3995\n",
      "208    3318\n",
      "209    2720\n",
      "210    2937\n",
      "211    3580\n",
      "212    2939\n",
      "213    2989\n",
      "214    3586\n",
      "215    3156\n",
      "216    3246\n",
      "217    3170\n",
      "218    3268\n",
      "219    3389\n",
      "220    3381\n",
      "221    2864\n",
      "222    3740\n",
      "223    3479\n",
      "224    3647\n",
      "225    3716\n",
      "226    3284\n",
      "227    4204\n",
      "228    3735\n",
      "229    3218\n",
      "230    3685\n",
      "231    3704\n",
      "232    3214\n",
      "233    3394\n",
      "234    3233\n",
      "235    3352\n",
      "236    3391\n",
      "Name: Head Size(cm^3), Length: 237, dtype: int64\n"
     ]
    }
   ],
   "source": [
    "\n",
    "print(x)   ###### just checking input\n"
   ]
  },
  {
   "cell_type": "code",
   "execution_count": 5,
   "metadata": {},
   "outputs": [
    {
     "name": "stdout",
     "output_type": "stream",
     "text": [
      "0      1530\n",
      "1      1297\n",
      "2      1335\n",
      "3      1282\n",
      "4      1590\n",
      "5      1300\n",
      "6      1400\n",
      "7      1255\n",
      "8      1355\n",
      "9      1375\n",
      "10     1340\n",
      "11     1380\n",
      "12     1355\n",
      "13     1522\n",
      "14     1208\n",
      "15     1405\n",
      "16     1358\n",
      "17     1292\n",
      "18     1340\n",
      "19     1400\n",
      "20     1357\n",
      "21     1287\n",
      "22     1275\n",
      "23     1270\n",
      "24     1635\n",
      "25     1505\n",
      "26     1490\n",
      "27     1485\n",
      "28     1310\n",
      "29     1420\n",
      "       ... \n",
      "207    1296\n",
      "208    1175\n",
      "209     955\n",
      "210    1070\n",
      "211    1320\n",
      "212    1060\n",
      "213    1130\n",
      "214    1250\n",
      "215    1225\n",
      "216    1180\n",
      "217    1178\n",
      "218    1142\n",
      "219    1130\n",
      "220    1185\n",
      "221    1012\n",
      "222    1280\n",
      "223    1103\n",
      "224    1408\n",
      "225    1300\n",
      "226    1246\n",
      "227    1380\n",
      "228    1350\n",
      "229    1060\n",
      "230    1350\n",
      "231    1220\n",
      "232    1110\n",
      "233    1215\n",
      "234    1104\n",
      "235    1170\n",
      "236    1120\n",
      "Name: Brain Weight(grams), Length: 237, dtype: int64\n"
     ]
    }
   ],
   "source": [
    "print(y)"
   ]
  },
  {
   "cell_type": "code",
   "execution_count": 6,
   "metadata": {},
   "outputs": [],
   "source": [
    "mean_x = np.mean(x) ####### mean of input variable"
   ]
  },
  {
   "cell_type": "code",
   "execution_count": 7,
   "metadata": {},
   "outputs": [
    {
     "name": "stdout",
     "output_type": "stream",
     "text": [
      "3633.9915611814345\n"
     ]
    }
   ],
   "source": [
    "print(mean_x)"
   ]
  },
  {
   "cell_type": "code",
   "execution_count": 8,
   "metadata": {},
   "outputs": [],
   "source": [
    "mean_y = np.mean(y)    ####### mean of target variable"
   ]
  },
  {
   "cell_type": "code",
   "execution_count": 9,
   "metadata": {},
   "outputs": [
    {
     "name": "stdout",
     "output_type": "stream",
     "text": [
      "1282.873417721519\n"
     ]
    }
   ],
   "source": [
    "print(mean_y)"
   ]
  },
  {
   "cell_type": "code",
   "execution_count": 10,
   "metadata": {},
   "outputs": [],
   "source": [
    "n = len(x)            ####### This is the length of our dataset\n",
    "\n",
    "numerator = 0         ###### we have to compute numerator and denominator separately\n",
    "denominator = 0\n",
    "\n",
    "for i in range(n):    #######  loop to compute numerator and denominator\n",
    "    numerator += (x[i]-mean_x)*(y[i]-mean_y)\n",
    "    denominator += (x[i] - mean_x) ** 2\n",
    "    \n",
    "    \n",
    "    "
   ]
  },
  {
   "cell_type": "code",
   "execution_count": 11,
   "metadata": {},
   "outputs": [
    {
     "name": "stdout",
     "output_type": "stream",
     "text": [
      "325.57342104944223 0.26342933948939945\n"
     ]
    }
   ],
   "source": [
    "##### Result \n",
    "b1 = numerator/denominator   ##### so this is our first coeficient (slop) \n",
    "\n",
    "b0 = mean_y - (b1 * mean_x)   ##### first b1 is evalueted then only we can compute b0 (y intercept) \n",
    "print(b0,b1)"
   ]
  },
  {
   "cell_type": "code",
   "execution_count": 12,
   "metadata": {},
   "outputs": [
    {
     "name": "stdout",
     "output_type": "stream",
     "text": [
      "72.1206213783709\n"
     ]
    }
   ],
   "source": [
    " ##########   This is the Root mean squared error , It is computed to know the error of the model ##### \n",
    "rmse = 0                   \n",
    "for i in range(n):\n",
    "    y_pred = b0 + b1 * x[i]\n",
    "    rmse += (y[i] - y_pred) ** 2\n",
    "rmse = np.sqrt(rmse/n)\n",
    "print(rmse)"
   ]
  },
  {
   "cell_type": "code",
   "execution_count": 13,
   "metadata": {},
   "outputs": [
    {
     "name": "stdout",
     "output_type": "stream",
     "text": [
      "1310.2722920608173\n"
     ]
    }
   ],
   "source": [
    "######## i am using x[1] for testing our coefficients \n",
    "x_inp = 3738\n",
    "y_pre = x_inp*b1 + b0\n",
    "print(y_pre)   \n",
    "######## the actual y[1] is 1297 so it is quit perceivable"
   ]
  },
  {
   "cell_type": "code",
   "execution_count": null,
   "metadata": {},
   "outputs": [],
   "source": []
  }
 ],
 "metadata": {
  "kernelspec": {
   "display_name": "Python 3",
   "language": "python",
   "name": "python3"
  },
  "language_info": {
   "codemirror_mode": {
    "name": "ipython",
    "version": 3
   },
   "file_extension": ".py",
   "mimetype": "text/x-python",
   "name": "python",
   "nbconvert_exporter": "python",
   "pygments_lexer": "ipython3",
   "version": "3.6.5"
  }
 },
 "nbformat": 4,
 "nbformat_minor": 2
}
