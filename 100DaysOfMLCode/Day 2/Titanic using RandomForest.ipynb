{
 "cells": [
  {
   "cell_type": "code",
   "execution_count": 74,
   "metadata": {},
   "outputs": [],
   "source": [
    "import pandas as pd\n",
    "import numpy as np\n",
    "from sklearn import preprocessing\n",
    "from sklearn.ensemble import RandomForestClassifier\n",
    "from sklearn.neighbors import KNeighborsClassifier\n",
    "#from sklearn.tree import DescisionTreeClassifier\n",
    "from sklearn.ensemble import ExtraTreesClassifier\n",
    "df_train=pd.read_csv('/home/luffy/Documents/Titanic/train.csv')\n",
    "df_test=pd.read_csv('/home/luffy/Documents/Titanic/test.csv')\n"
   ]
  },
  {
   "cell_type": "code",
   "execution_count": 75,
   "metadata": {},
   "outputs": [
    {
     "name": "stdout",
     "output_type": "stream",
     "text": [
      "PassengerId      int64\n",
      "Survived         int64\n",
      "Pclass           int64\n",
      "Name            object\n",
      "Sex             object\n",
      "Age            float64\n",
      "SibSp            int64\n",
      "Parch            int64\n",
      "Ticket          object\n",
      "Fare           float64\n",
      "Cabin           object\n",
      "Embarked        object\n",
      "dtype: object\n"
     ]
    }
   ],
   "source": [
    "print(df_train.dtypes)"
   ]
  },
  {
   "cell_type": "code",
   "execution_count": 76,
   "metadata": {},
   "outputs": [],
   "source": [
    "Y_train=df_train.Survived\n",
    "\n",
    "X_train=df_train.drop(['PassengerId','Name','Ticket','Cabin','Survived'],axis=1)\n",
    "X_test=df_test.drop(['PassengerId','Name','Ticket','Cabin'],axis=1)"
   ]
  },
  {
   "cell_type": "code",
   "execution_count": 77,
   "metadata": {},
   "outputs": [],
   "source": [
    "le = preprocessing.LabelEncoder()\n",
    "encoded=le.fit_transform(df_train['Sex'].astype('str'))\n",
    "X_train['Sex']=encoded\n",
    "\n",
    "encoded=le.fit_transform(df_train['Embarked'].astype('str'))\n",
    "X_train['Embarked']=encoded\n"
   ]
  },
  {
   "cell_type": "code",
   "execution_count": 78,
   "metadata": {},
   "outputs": [],
   "source": [
    "X_test['Sex']=le.fit_transform(df_test['Sex'].astype('str'))\n",
    "X_test['Embarked']=le.fit_transform(df_test['Embarked'].astype('str'))"
   ]
  },
  {
   "cell_type": "code",
   "execution_count": 79,
   "metadata": {},
   "outputs": [],
   "source": [
    "from sklearn.preprocessing import Imputer"
   ]
  },
  {
   "cell_type": "code",
   "execution_count": 80,
   "metadata": {
    "scrolled": true
   },
   "outputs": [
    {
     "name": "stdout",
     "output_type": "stream",
     "text": [
      "Pclass        int64\n",
      "Sex           int64\n",
      "Age         float64\n",
      "SibSp         int64\n",
      "Parch         int64\n",
      "Fare        float64\n",
      "Embarked      int64\n",
      "dtype: object\n"
     ]
    }
   ],
   "source": [
    "impute=Imputer(strategy='mean')\n",
    "for col in X_train.columns:\n",
    "    if X_train[col].isnull().any():\n",
    "        imputed=pd.DataFrame(impute.fit_transform(X_train[[col]]))\n",
    "        X_train[[col]]=imputed\n",
    "print(X_train.dtypes)"
   ]
  },
  {
   "cell_type": "code",
   "execution_count": 81,
   "metadata": {},
   "outputs": [
    {
     "name": "stdout",
     "output_type": "stream",
     "text": [
      "Pclass      0\n",
      "Sex         0\n",
      "Age         0\n",
      "SibSp       0\n",
      "Parch       0\n",
      "Fare        0\n",
      "Embarked    0\n",
      "dtype: int64\n"
     ]
    }
   ],
   "source": [
    "for col in X_test.columns:\n",
    "    if X_test[col].isnull().any():\n",
    "        imputed=pd.DataFrame(impute.fit_transform(X_test[[col]]))\n",
    "        X_test[[col]]=imputed\n",
    "print(X_test.isnull().sum())\n"
   ]
  },
  {
   "cell_type": "code",
   "execution_count": 82,
   "metadata": {},
   "outputs": [
    {
     "name": "stdout",
     "output_type": "stream",
     "text": [
      "     0\n",
      "0    0\n",
      "1    0\n",
      "2    0\n",
      "3    1\n",
      "4    0\n",
      "5    0\n",
      "6    1\n",
      "7    1\n",
      "8    0\n",
      "9    1\n",
      "10   0\n",
      "11   0\n",
      "12   1\n",
      "13   0\n",
      "14   1\n",
      "15   1\n",
      "16   0\n",
      "17   0\n",
      "18   0\n",
      "19   0\n",
      "20   0\n",
      "21   1\n",
      "22   1\n",
      "23   1\n",
      "24   1\n",
      "25   0\n",
      "26   1\n",
      "27   0\n",
      "28   0\n",
      "29   1\n",
      "..  ..\n",
      "388  0\n",
      "389  1\n",
      "390  1\n",
      "391  0\n",
      "392  0\n",
      "393  0\n",
      "394  1\n",
      "395  1\n",
      "396  0\n",
      "397  1\n",
      "398  0\n",
      "399  0\n",
      "400  1\n",
      "401  1\n",
      "402  1\n",
      "403  0\n",
      "404  0\n",
      "405  0\n",
      "406  0\n",
      "407  1\n",
      "408  1\n",
      "409  1\n",
      "410  1\n",
      "411  1\n",
      "412  0\n",
      "413  0\n",
      "414  1\n",
      "415  0\n",
      "416  0\n",
      "417  1\n",
      "\n",
      "[418 rows x 1 columns]\n"
     ]
    }
   ],
   "source": [
    "#clf = RandomForestClassifier()   ####### Randomforest Accuracy =0.73684 \n",
    "clf =KNeighborsClassifier()\n",
    "clf.fit(X_train,Y_train)\n",
    "prediction=pd.DataFrame(clf.predict(X_test))\n",
    "print(prediction)\n",
    "sol=pd.DataFrame({'PassengerId':range(892,1310,1)})\n",
    "sol['Survived']=prediction\n",
    "sol.to_csv('/home/luffy/Documents/Titanic/Titanic_solution.csv')"
   ]
  },
  {
   "cell_type": "code",
   "execution_count": null,
   "metadata": {},
   "outputs": [],
   "source": []
  }
 ],
 "metadata": {
  "kernelspec": {
   "display_name": "Python 3",
   "language": "python",
   "name": "python3"
  },
  "language_info": {
   "codemirror_mode": {
    "name": "ipython",
    "version": 3
   },
   "file_extension": ".py",
   "mimetype": "text/x-python",
   "name": "python",
   "nbconvert_exporter": "python",
   "pygments_lexer": "ipython3",
   "version": "3.6.5"
  }
 },
 "nbformat": 4,
 "nbformat_minor": 2
}
